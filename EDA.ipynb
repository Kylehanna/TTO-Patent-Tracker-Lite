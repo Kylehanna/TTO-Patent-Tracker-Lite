{
 "cells": [
  {
   "cell_type": "markdown",
   "id": "d9c62a91",
   "metadata": {},
   "source": [
    "# TTO Patent Tracker\n",
    "## Project Overview\n",
    "\n",
    "This project is inspired by the 2024 AUTM University Operations Committee’s “Keeping Up With Patenting” curriculum. As an Applied Data Scientist in the tech transfer space, I am building an open-source ML product in public to demonstrate that it’s possible to create AI-driven tools for patent tracking without relying on commercial solutions. The tracker will be updated daily at 6am CST and will use only public data from the USPTO and other open sources.\n",
    "\n",
    "The tool is designed to support Aether Intelligence, a quant hedge fund that leverages applied mathematics, data science, and algorithmic techniques to analyze patent data and inform investment decisions. By monitoring patents in priority technology areas, the tracker provides actionable insights into the patent landscape and highlights emerging technology trends that may impact financial markets and investment strategies. Aggregating and tagging US and PCT filings by technology domain and inventor institution enables the fund to identify disruptive innovations, assess competitive dynamics, and anticipate market shifts.\n",
    "\n",
    "This data-driven approach empowers Aether Intelligence to make informed decisions about launching, investing in, or partnering with startups and technologies based on real-time IP insights.\n",
    "\n",
    "**Function:**  \n",
    "Build a lightweight, open-source patent tracking tool that aggregates US and PCT filings, tagging them by technology domain and inventor institution.\n",
    "\n",
    "**Tech Stack:**  \n",
    "- USPTO API  \n",
    "- NLP-based keyword classification\n",
    "- Profiles RNS API (e.g., profiles.uchicago.edu) for publication and researcher data\n",
    "\n",
    "**Bonus Features:**  \n",
    "- Link academic publications to patent filings via inventor\n",
    "\n"
   ]
  },
  {
   "cell_type": "code",
   "execution_count": 6,
   "id": "35512ac1",
   "metadata": {},
   "outputs": [
    {
     "name": "stderr",
     "output_type": "stream",
     "text": [
      "Matplotlib is building the font cache; this may take a moment.\n"
     ]
    }
   ],
   "source": [
    "#Import packages \n",
    "\n",
    "import pandas as pd\n",
    "import numpy as np\n",
    "from sklearn import model_selection, metrics\n",
    "import requests\n",
    "from bs4 import BeautifulSoup\n",
    "import nltk\n",
    "import spacy\n",
    "import matplotlib.pyplot as plt\n",
    "import seaborn as sns\n",
    "import xmltodict"
   ]
  },
  {
   "cell_type": "code",
   "execution_count": 2,
   "id": "f490996c",
   "metadata": {},
   "outputs": [
    {
     "ename": "ModuleNotFoundError",
     "evalue": "No module named 'faker'",
     "output_type": "error",
     "traceback": [
      "\u001b[0;31m---------------------------------------------------------------------------\u001b[0m",
      "\u001b[0;31mModuleNotFoundError\u001b[0m                       Traceback (most recent call last)",
      "Cell \u001b[0;32mIn[2], line 4\u001b[0m\n\u001b[1;32m      2\u001b[0m \u001b[38;5;28;01mimport\u001b[39;00m \u001b[38;5;21;01mpandas\u001b[39;00m \u001b[38;5;28;01mas\u001b[39;00m \u001b[38;5;21;01mpd\u001b[39;00m\n\u001b[1;32m      3\u001b[0m \u001b[38;5;28;01mimport\u001b[39;00m \u001b[38;5;21;01mnumpy\u001b[39;00m \u001b[38;5;28;01mas\u001b[39;00m \u001b[38;5;21;01mnp\u001b[39;00m\n\u001b[0;32m----> 4\u001b[0m \u001b[38;5;28;01mfrom\u001b[39;00m \u001b[38;5;21;01mfaker\u001b[39;00m \u001b[38;5;28;01mimport\u001b[39;00m Faker\n\u001b[1;32m      6\u001b[0m fake \u001b[38;5;241m=\u001b[39m Faker()\n\u001b[1;32m      7\u001b[0m num_records \u001b[38;5;241m=\u001b[39m \u001b[38;5;241m100\u001b[39m\n",
      "\u001b[0;31mModuleNotFoundError\u001b[0m: No module named 'faker'"
     ]
    }
   ],
   "source": [
    "#Generate synthetic data to simulate a real-world scenario\n",
    "import pandas as pd\n",
    "import numpy as np\n",
    "from faker import Faker\n",
    "\n",
    "fake = Faker()\n",
    "num_records = 100\n",
    "\n",
    "data = {\n",
    "    'patent_number': [f\"US{np.random.randint(10000000, 99999999)}B2\" for _ in range(num_records)],\n",
    "    'title': [fake.sentence(nb_words=6) for _ in range(num_records)],\n",
    "    'abstract': [fake.paragraph(nb_sentences=3) for _ in range(num_records)],\n",
    "    'inventor': [fake.name() for _ in range(num_records)],\n",
    "    'filing_date': [fake.date_between(start_date='-10y', end_date='today') for _ in range(num_records)],\n",
    "    'assignee': [fake.company() for _ in range(num_records)],\n",
    "    'technology_domain': [np.random.choice(['AI', 'Biotech', 'Robotics', 'Materials', 'Energy']) for _ in range(num_records)]\n",
    "}\n",
    "\n",
    "df_synthetic = pd.DataFrame(data)\n",
    "df_synthetic.head()"
   ]
  },
  {
   "cell_type": "code",
   "execution_count": null,
   "id": "2d57b599",
   "metadata": {},
   "outputs": [],
   "source": [
    "#Import data into df for exploratory data analysis\n"
   ]
  },
  {
   "cell_type": "code",
   "execution_count": null,
   "id": "760ad5cb",
   "metadata": {},
   "outputs": [],
   "source": []
  }
 ],
 "metadata": {
  "kernelspec": {
   "display_name": "Python 3",
   "language": "python",
   "name": "python3"
  },
  "language_info": {
   "codemirror_mode": {
    "name": "ipython",
    "version": 3
   },
   "file_extension": ".py",
   "mimetype": "text/x-python",
   "name": "python",
   "nbconvert_exporter": "python",
   "pygments_lexer": "ipython3",
   "version": "3.12.1"
  }
 },
 "nbformat": 4,
 "nbformat_minor": 5
}
