{
 "cells": [
  {
   "cell_type": "markdown",
   "id": "d9c62a91",
   "metadata": {},
   "source": [
    "# TTO Patent Tracker\n",
    "## Project Overview\n",
    "\n",
    "This project is inspired by the 2024 AUTM University Operations Committee’s “Keeping Up With Patenting” curriculum. As an Applied Data Scientist in the tech transfer space, I am building an open-source ML product in public to demonstrate that it’s possible to create AI-driven tools for patent tracking without relying on commercial solutions. The tracker will be updated daily at 6am CST and will use only public data from the USPTO and other open sources.\n",
    "\n",
    "The tool is designed to support Aether Intelligence, a quant hedge fund that leverages applied mathematics, data science, and algorithmic techniques to analyze patent data and inform investment decisions. By monitoring patents in priority technology areas, the tracker provides actionable insights into the patent landscape and highlights emerging technology trends that may impact financial markets and investment strategies. Aggregating and tagging US and PCT filings by technology domain and inventor institution enables the fund to identify disruptive innovations, assess competitive dynamics, and anticipate market shifts.\n",
    "\n",
    "This data-driven approach empowers Aether Intelligence to make informed decisions about launching, investing in, or partnering with startups and technologies based on real-time IP insights.\n",
    "\n",
    "**Function:**  \n",
    "Build a lightweight, open-source patent tracking tool that aggregates US and PCT filings, tagging them by technology domain and inventor institution.\n",
    "\n",
    "**Tech Stack:**  \n",
    "- USPTO API  \n",
    "- NLP-based keyword classification\n",
    "- Profiles RNS API (e.g., profiles.uchicago.edu) for publication and researcher data\n",
    "\n",
    "**Bonus Features:**  \n",
    "- Link academic publications to patent filings via inventor\n",
    "\n"
   ]
  },
  {
   "cell_type": "code",
   "execution_count": 6,
   "id": "35512ac1",
   "metadata": {},
   "outputs": [
    {
     "name": "stderr",
     "output_type": "stream",
     "text": [
      "Matplotlib is building the font cache; this may take a moment.\n"
     ]
    }
   ],
   "source": [
    "#Import packages \n",
    "\n",
    "import pandas as pd\n",
    "import numpy as np\n",
    "from sklearn import model_selection, metrics\n",
    "import requests\n",
    "from bs4 import BeautifulSoup\n",
    "import nltk\n",
    "import spacy\n",
    "import matplotlib.pyplot as plt\n",
    "import seaborn as sns\n",
    "import xmltodict"
   ]
  },
  {
   "cell_type": "code",
   "execution_count": null,
   "id": "2d57b599",
   "metadata": {},
   "outputs": [],
   "source": []
  }
 ],
 "metadata": {
  "kernelspec": {
   "display_name": ".venv",
   "language": "python",
   "name": "python3"
  },
  "language_info": {
   "codemirror_mode": {
    "name": "ipython",
    "version": 3
   },
   "file_extension": ".py",
   "mimetype": "text/x-python",
   "name": "python",
   "nbconvert_exporter": "python",
   "pygments_lexer": "ipython3",
   "version": "3.13.0"
  }
 },
 "nbformat": 4,
 "nbformat_minor": 5
}
