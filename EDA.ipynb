{
 "cells": [
  {
   "cell_type": "markdown",
   "id": "d9c62a91",
   "metadata": {},
   "source": [
    "#TTO Patent Tracker\n",
    "\n",
    "## Start a public project where you update at 6am CST. Publically include the timestamp as proof you're not working on it during work hours. Choose a few patents to follow, exclude MAP accounts and include folks I have tie to pre-Inteum. And explain patent landscape around this IP. Note recent deals from Pitchbook, ,nspired by: “Keeping Up With Patenting”\n",
    "Function: Build a lightweight open-source patent tracking tool that pulls in US or PCT filings and tags them by domain or inventor institution.\n",
    "\n",
    "Stack: USPTO API + NLP-based keyword classification\n",
    "Bonus: Link publications to filings via inventor disambiguation\n",
    "NO Inteum Code, NO Docketing Replication — Only public metadata \n",
    "\n",
    "## \n",
    "\n"
   ]
  },
  {
   "cell_type": "code",
   "execution_count": null,
   "id": "35512ac1",
   "metadata": {},
   "outputs": [],
   "source": []
  }
 ],
 "metadata": {
  "language_info": {
   "name": "python"
  }
 },
 "nbformat": 4,
 "nbformat_minor": 5
}
